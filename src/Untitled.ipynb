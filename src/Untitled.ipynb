{
 "cells": [
  {
   "cell_type": "code",
   "execution_count": 3,
   "id": "3645dc2e",
   "metadata": {},
   "outputs": [
    {
     "ename": "ModuleNotFoundError",
     "evalue": "No module named 'ibapi'",
     "output_type": "error",
     "traceback": [
      "\u001b[0;31m---------------------------------------------------------------------------\u001b[0m",
      "\u001b[0;31mModuleNotFoundError\u001b[0m                       Traceback (most recent call last)",
      "Cell \u001b[0;32mIn[3], line 1\u001b[0m\n\u001b[0;32m----> 1\u001b[0m \u001b[38;5;28;01mimport\u001b[39;00m \u001b[38;5;21;01mibapi\u001b[39;00m\n\u001b[1;32m      2\u001b[0m \u001b[38;5;28;01mimport\u001b[39;00m \u001b[38;5;21;01mpandas\u001b[39;00m\n\u001b[1;32m      3\u001b[0m \u001b[38;5;28;01mimport\u001b[39;00m \u001b[38;5;21;01mplotly\u001b[39;00m\u001b[38;5;21;01m.\u001b[39;00m\u001b[38;5;21;01mgraph_objects\u001b[39;00m \u001b[38;5;28;01mas\u001b[39;00m \u001b[38;5;21;01mgo\u001b[39;00m\n",
      "\u001b[0;31mModuleNotFoundError\u001b[0m: No module named 'ibapi'"
     ]
    }
   ],
   "source": [
    "import ibapi\n",
    "import pandas\n",
    "import plotly.graph_objects as go\n",
    "from ibapi.client import EClient\n",
    "from ibapi.wrapper import EWrapper\n",
    "from ibapi.contract import Contract\n",
    "\n",
    "import threading\n",
    "import time\n",
    "\n",
    "class IBapi(EWrapper, EClient):\n",
    "      def __init__(self):\n",
    "           EClient.__init__(self, self)\n",
    "           self.data = [] #Initialize variable to store candle\n",
    "      def historicalData(self, reqId, bar):\n",
    "           print(f'Time: {bar.date} High: {bar.high} Low: {bar.low} Open: {bar.open} Close : {bar.close}')\n",
    "           self.data.append([bar.date, bar.high, bar.low, bar.open, bar.close])\n",
    "\n",
    "def run_loop():\n",
    "    app.run()\n",
    " \n",
    "app = IBapi()\n",
    "app.connect('127.0.0.1', 7496, 123)\n",
    "\n",
    "#Start the socket in a thread\n",
    "api_thread = threading.Thread(target=run_loop, daemon=True)\n",
    "api_thread.start()\n",
    "\n",
    "time.sleep(1) \n",
    "\n",
    "#contract object\n",
    "eurusd_contract = Contract()\n",
    "eurusd_contract.symbol = 'EUR'\n",
    "eurusd_contract.secType = 'CASH'\n",
    "eurusd_contract.exchange = 'IDEALPRO'\n",
    "eurusd_contract.currency = 'USD'\n",
    "\n",
    "\n",
    "\n",
    "i=1\n",
    "while i==1:\n",
    "    app.reqHistoricalData(1, eurusd_contract, '', '2 D', '1 hour', 'BID', 1, 2, False, [])\n",
    "    time.sleep(5)  #sleep to allow enough time for data to be returned\n",
    "\n",
    "    df = pandas.DataFrame(app.data, index=None, columns=['DateTime','High', 'Low', 'Open', \n",
    "                                                     'Close'])\n",
    "    df['DateTime'] = pandas.to_datetime(df['DateTime'],unit='s') \n",
    "    df.to_csv('EURUSD_Hourly.csv')\n",
    "    #print(df)\n",
    "    time.sleep(5)\n",
    "\n",
    "\n",
    "\n",
    "    fig = go.Figure(data=[ \n",
    "          go.Candlestick(\n",
    "          x=df['DateTime'],\n",
    "          open=df['Open'],\n",
    "          high=df['High'],\n",
    "          low=df['Low'],\n",
    "          close=df['Close'])])\n",
    "\n",
    "    fig = fig.update_layout(title= 'INTERACTIVE CHART',\n",
    "                            yaxis_title = eurusd_contract.symbol)\n",
    "\n",
    "    fig.show()\n",
    "    time.sleep(10)"
   ]
  },
  {
   "cell_type": "code",
   "execution_count": null,
   "id": "9b6cc749",
   "metadata": {},
   "outputs": [],
   "source": []
  }
 ],
 "metadata": {
  "kernelspec": {
   "display_name": "Python 3 (ipykernel)",
   "language": "python",
   "name": "python3"
  },
  "language_info": {
   "codemirror_mode": {
    "name": "ipython",
    "version": 3
   },
   "file_extension": ".py",
   "mimetype": "text/x-python",
   "name": "python",
   "nbconvert_exporter": "python",
   "pygments_lexer": "ipython3",
   "version": "3.9.7"
  }
 },
 "nbformat": 4,
 "nbformat_minor": 5
}
